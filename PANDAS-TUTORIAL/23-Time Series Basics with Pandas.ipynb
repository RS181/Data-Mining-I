{
 "cells": [
  {
   "cell_type": "markdown",
   "metadata": {},
   "source": [
    "# Time Series Basics with Pandas"
   ]
  },
  {
   "cell_type": "markdown",
   "metadata": {},
   "source": [
    "Hi Guys, Welcome to [Tirendaz Academy](https://youtube.com/c/tirendazacademy) 😀\n",
    "</br>\n",
    "In this notebook, I'm going to talk about time series basics with Pandas.\n",
    "</br>\n",
    "Happy learning 🐱‍🏍 "
   ]
  },
  {
   "cell_type": "markdown",
   "metadata": {},
   "source": [
    "## What is the time series?"
   ]
  },
  {
   "cell_type": "code",
   "execution_count": 2,
   "metadata": {},
   "outputs": [],
   "source": [
    "import pandas as pd\n",
    "import numpy as np\n",
    "from datetime import datetime"
   ]
  },
  {
   "cell_type": "code",
   "execution_count": 3,
   "metadata": {},
   "outputs": [],
   "source": [
    "date=[datetime(2020,1,5),\n",
    "      datetime(2020,1,10),\n",
    "      datetime(2020,1,15),\n",
    "      datetime(2020,1,20),\n",
    "      datetime(2020,1,25)] "
   ]
  },
  {
   "cell_type": "code",
   "execution_count": 4,
   "metadata": {},
   "outputs": [
    {
     "data": {
      "text/plain": [
       "2020-01-05   -0.988116\n",
       "2020-01-10    0.072625\n",
       "2020-01-15   -1.029843\n",
       "2020-01-20    0.411006\n",
       "2020-01-25   -1.948989\n",
       "dtype: float64"
      ]
     },
     "execution_count": 4,
     "metadata": {},
     "output_type": "execute_result"
    }
   ],
   "source": [
    "ts=pd.Series(np.random.randn(5),index=date)\n",
    "ts"
   ]
  },
  {
   "cell_type": "code",
   "execution_count": 5,
   "metadata": {},
   "outputs": [
    {
     "data": {
      "text/plain": [
       "DatetimeIndex(['2020-01-05', '2020-01-10', '2020-01-15', '2020-01-20',\n",
       "               '2020-01-25'],\n",
       "              dtype='datetime64[ns]', freq=None)"
      ]
     },
     "execution_count": 5,
     "metadata": {},
     "output_type": "execute_result"
    }
   ],
   "source": [
    "ts.index "
   ]
  },
  {
   "cell_type": "markdown",
   "metadata": {},
   "source": [
    "## Time Series Data Structures"
   ]
  },
  {
   "cell_type": "code",
   "execution_count": 6,
   "metadata": {},
   "outputs": [
    {
     "data": {
      "text/plain": [
       "Timestamp('2020-01-01 00:00:00')"
      ]
     },
     "execution_count": 6,
     "metadata": {},
     "output_type": "execute_result"
    }
   ],
   "source": [
    "pd.to_datetime(\"01/01/2020\") "
   ]
  },
  {
   "cell_type": "code",
   "execution_count": 7,
   "metadata": {},
   "outputs": [
    {
     "data": {
      "text/plain": [
       "DatetimeIndex(['2020-07-05', '2020-07-06', '2020-07-07', '2020-07-08'], dtype='datetime64[ns]', freq=None)"
      ]
     },
     "execution_count": 7,
     "metadata": {},
     "output_type": "execute_result"
    }
   ],
   "source": [
    "dates=pd.to_datetime(\n",
    "    [datetime(2020,7,5),\n",
    "     \"6th of July, 2020\",\n",
    "     \"2020-Jul-7\",\n",
    "     \"20200708\"])\n",
    "dates"
   ]
  },
  {
   "cell_type": "code",
   "execution_count": 10,
   "metadata": {},
   "outputs": [
    {
     "data": {
      "text/plain": [
       "PeriodIndex(['2020-07-05', '2020-07-06', '2020-07-07', '2020-07-08'], dtype='period[D]')"
      ]
     },
     "execution_count": 10,
     "metadata": {},
     "output_type": "execute_result"
    }
   ],
   "source": [
    "dates.to_period(\"D\")"
   ]
  },
  {
   "cell_type": "code",
   "execution_count": 11,
   "metadata": {},
   "outputs": [
    {
     "data": {
      "text/plain": [
       "TimedeltaIndex(['0 days', '1 days', '2 days', '3 days'], dtype='timedelta64[ns]', freq=None)"
      ]
     },
     "execution_count": 11,
     "metadata": {},
     "output_type": "execute_result"
    }
   ],
   "source": [
    "dates-dates[0]"
   ]
  },
  {
   "cell_type": "markdown",
   "metadata": {},
   "source": [
    "## Creating a Time Series"
   ]
  },
  {
   "cell_type": "code",
   "execution_count": 12,
   "metadata": {},
   "outputs": [
    {
     "data": {
      "text/plain": [
       "DatetimeIndex(['2020-08-15', '2020-08-16', '2020-08-17', '2020-08-18',\n",
       "               '2020-08-19', '2020-08-20', '2020-08-21', '2020-08-22',\n",
       "               '2020-08-23', '2020-08-24', '2020-08-25', '2020-08-26',\n",
       "               '2020-08-27', '2020-08-28', '2020-08-29', '2020-08-30',\n",
       "               '2020-08-31', '2020-09-01'],\n",
       "              dtype='datetime64[ns]', freq='D')"
      ]
     },
     "execution_count": 12,
     "metadata": {},
     "output_type": "execute_result"
    }
   ],
   "source": [
    "pd.date_range(\"2020-08-15\",\"2020-09-01\") "
   ]
  },
  {
   "cell_type": "code",
   "execution_count": 13,
   "metadata": {},
   "outputs": [
    {
     "data": {
      "text/plain": [
       "DatetimeIndex(['2020-07-15', '2020-07-16', '2020-07-17', '2020-07-18',\n",
       "               '2020-07-19', '2020-07-20', '2020-07-21', '2020-07-22',\n",
       "               '2020-07-23', '2020-07-24'],\n",
       "              dtype='datetime64[ns]', freq='D')"
      ]
     },
     "execution_count": 13,
     "metadata": {},
     "output_type": "execute_result"
    }
   ],
   "source": [
    "pd.date_range('2020-07-15', periods=10)"
   ]
  },
  {
   "cell_type": "code",
   "execution_count": 15,
   "metadata": {},
   "outputs": [
    {
     "data": {
      "text/plain": [
       "DatetimeIndex(['2020-07-15 00:00:00', '2020-07-15 01:00:00',\n",
       "               '2020-07-15 02:00:00', '2020-07-15 03:00:00',\n",
       "               '2020-07-15 04:00:00', '2020-07-15 05:00:00',\n",
       "               '2020-07-15 06:00:00', '2020-07-15 07:00:00',\n",
       "               '2020-07-15 08:00:00', '2020-07-15 09:00:00'],\n",
       "              dtype='datetime64[ns]', freq='h')"
      ]
     },
     "execution_count": 15,
     "metadata": {},
     "output_type": "execute_result"
    }
   ],
   "source": [
    "pd.date_range(\"2020-07-15\",\n",
    "              periods=10,\n",
    "              freq=\"h\")"
   ]
  },
  {
   "cell_type": "code",
   "execution_count": 16,
   "metadata": {},
   "outputs": [
    {
     "data": {
      "text/plain": [
       "PeriodIndex(['2020-10', '2020-11', '2020-12', '2021-01', '2021-02', '2021-03',\n",
       "             '2021-04', '2021-05', '2021-06', '2021-07'],\n",
       "            dtype='period[M]')"
      ]
     },
     "execution_count": 16,
     "metadata": {},
     "output_type": "execute_result"
    }
   ],
   "source": [
    "pd.period_range(\"2020-10\", \n",
    "                periods=10,\n",
    "                freq=\"M\")"
   ]
  },
  {
   "cell_type": "code",
   "execution_count": 18,
   "metadata": {},
   "outputs": [
    {
     "data": {
      "text/plain": [
       "TimedeltaIndex(['0 days 00:00:00', '0 days 01:00:00', '0 days 02:00:00',\n",
       "                '0 days 03:00:00', '0 days 04:00:00', '0 days 05:00:00',\n",
       "                '0 days 06:00:00', '0 days 07:00:00'],\n",
       "               dtype='timedelta64[ns]', freq='h')"
      ]
     },
     "execution_count": 18,
     "metadata": {},
     "output_type": "execute_result"
    }
   ],
   "source": [
    "pd.timedelta_range(0,periods=8,freq=\"h\")"
   ]
  },
  {
   "cell_type": "code",
   "execution_count": 22,
   "metadata": {},
   "outputs": [
    {
     "data": {
      "text/plain": [
       "Timestamp('2020-01-10 00:00:00')"
      ]
     },
     "execution_count": 22,
     "metadata": {},
     "output_type": "execute_result"
    }
   ],
   "source": [
    "stamp=ts.index[1]\n",
    "stamp"
   ]
  },
  {
   "cell_type": "code",
   "execution_count": 23,
   "metadata": {},
   "outputs": [
    {
     "data": {
      "text/plain": [
       "np.float64(0.07262480623032497)"
      ]
     },
     "execution_count": 23,
     "metadata": {},
     "output_type": "execute_result"
    }
   ],
   "source": [
    "ts[stamp]"
   ]
  },
  {
   "cell_type": "code",
   "execution_count": 24,
   "metadata": {},
   "outputs": [
    {
     "data": {
      "text/plain": [
       "np.float64(-1.948989375781876)"
      ]
     },
     "execution_count": 24,
     "metadata": {},
     "output_type": "execute_result"
    }
   ],
   "source": [
    "ts[\"25.1.2020\"]"
   ]
  },
  {
   "cell_type": "code",
   "execution_count": 25,
   "metadata": {},
   "outputs": [
    {
     "data": {
      "text/plain": [
       "np.float64(-1.948989375781876)"
      ]
     },
     "execution_count": 25,
     "metadata": {},
     "output_type": "execute_result"
    }
   ],
   "source": [
    "ts[\"20200125\"]"
   ]
  },
  {
   "cell_type": "code",
   "execution_count": 28,
   "metadata": {},
   "outputs": [
    {
     "data": {
      "text/plain": [
       "2020-01-01   -2.256278\n",
       "2020-01-02    0.397952\n",
       "2020-01-03   -0.964401\n",
       "2020-01-04    0.515471\n",
       "2020-01-05    1.220591\n",
       "Freq: D, dtype: float64"
      ]
     },
     "execution_count": 28,
     "metadata": {},
     "output_type": "execute_result"
    }
   ],
   "source": [
    "long_ts=pd.Series(\n",
    "    np.random.randn(1000),\n",
    "    index=pd.date_range(\"1/1/2020\",\n",
    "                        periods=1000))\n",
    "long_ts.head()"
   ]
  },
  {
   "cell_type": "code",
   "execution_count": 30,
   "metadata": {},
   "outputs": [
    {
     "data": {
      "text/plain": [
       "2020-01-01   -2.256278\n",
       "2020-01-02    0.397952\n",
       "2020-01-03   -0.964401\n",
       "2020-01-04    0.515471\n",
       "2020-01-05    1.220591\n",
       "Freq: D, dtype: float64"
      ]
     },
     "execution_count": 30,
     "metadata": {},
     "output_type": "execute_result"
    }
   ],
   "source": [
    "long_ts[\"2020\"].head()"
   ]
  },
  {
   "cell_type": "code",
   "execution_count": 31,
   "metadata": {},
   "outputs": [
    {
     "data": {
      "text/plain": [
       "2020-10-01   -0.339287\n",
       "2020-10-02   -0.614654\n",
       "2020-10-03    1.275018\n",
       "2020-10-04    1.144183\n",
       "2020-10-05   -1.111732\n",
       "2020-10-06   -1.193512\n",
       "2020-10-07    0.040218\n",
       "2020-10-08    0.891768\n",
       "2020-10-09    1.212005\n",
       "2020-10-10   -0.454561\n",
       "2020-10-11   -1.061001\n",
       "2020-10-12    0.812681\n",
       "2020-10-13    0.401044\n",
       "2020-10-14    0.566468\n",
       "2020-10-15   -0.314693\n",
       "Freq: D, dtype: float64"
      ]
     },
     "execution_count": 31,
     "metadata": {},
     "output_type": "execute_result"
    }
   ],
   "source": [
    "long_ts[\"2020-10\"].head(15)"
   ]
  },
  {
   "cell_type": "code",
   "execution_count": 32,
   "metadata": {},
   "outputs": [
    {
     "data": {
      "text/plain": [
       "2022-09-20    0.615397\n",
       "2022-09-21    1.722182\n",
       "2022-09-22    0.583345\n",
       "2022-09-23    0.125039\n",
       "2022-09-24   -0.903543\n",
       "2022-09-25   -0.289411\n",
       "2022-09-26   -0.176252\n",
       "Freq: D, dtype: float64"
      ]
     },
     "execution_count": 32,
     "metadata": {},
     "output_type": "execute_result"
    }
   ],
   "source": [
    "long_ts[datetime(2022,9,20):] "
   ]
  },
  {
   "cell_type": "markdown",
   "metadata": {},
   "source": [
    "## The Important Methods Used in Time Series"
   ]
  },
  {
   "cell_type": "code",
   "execution_count": 33,
   "metadata": {
    "scrolled": true
   },
   "outputs": [
    {
     "data": {
      "text/plain": [
       "2020-01-05   -0.988116\n",
       "2020-01-10    0.072625\n",
       "2020-01-15   -1.029843\n",
       "2020-01-20    0.411006\n",
       "2020-01-25   -1.948989\n",
       "dtype: float64"
      ]
     },
     "execution_count": 33,
     "metadata": {},
     "output_type": "execute_result"
    }
   ],
   "source": [
    "ts"
   ]
  },
  {
   "cell_type": "code",
   "execution_count": 47,
   "metadata": {},
   "outputs": [
    {
     "data": {
      "text/plain": [
       "2020-01-05   -0.988116\n",
       "2020-01-10    0.072625\n",
       "2020-01-15   -1.029843\n",
       "dtype: float64"
      ]
     },
     "execution_count": 47,
     "metadata": {},
     "output_type": "execute_result"
    }
   ],
   "source": [
    "# ts.truncate(after=\"x\") \n",
    "# Devolve todos os dados na série temporal que ocorreram antes ou no dia x.\n",
    "ts.truncate(after=\"1/15/2020\")"
   ]
  },
  {
   "cell_type": "code",
   "execution_count": 48,
   "metadata": {},
   "outputs": [
    {
     "data": {
      "text/plain": [
       "DatetimeIndex(['2020-01-05', '2020-01-12', '2020-01-19', '2020-01-26',\n",
       "               '2020-02-02', '2020-02-09', '2020-02-16', '2020-02-23',\n",
       "               '2020-03-01', '2020-03-08', '2020-03-15', '2020-03-22',\n",
       "               '2020-03-29', '2020-04-05', '2020-04-12', '2020-04-19',\n",
       "               '2020-04-26', '2020-05-03', '2020-05-10', '2020-05-17',\n",
       "               '2020-05-24', '2020-05-31', '2020-06-07', '2020-06-14',\n",
       "               '2020-06-21', '2020-06-28', '2020-07-05', '2020-07-12',\n",
       "               '2020-07-19', '2020-07-26', '2020-08-02', '2020-08-09',\n",
       "               '2020-08-16', '2020-08-23', '2020-08-30', '2020-09-06',\n",
       "               '2020-09-13', '2020-09-20', '2020-09-27', '2020-10-04',\n",
       "               '2020-10-11', '2020-10-18', '2020-10-25', '2020-11-01',\n",
       "               '2020-11-08', '2020-11-15', '2020-11-22', '2020-11-29',\n",
       "               '2020-12-06', '2020-12-13', '2020-12-20', '2020-12-27',\n",
       "               '2021-01-03', '2021-01-10', '2021-01-17', '2021-01-24',\n",
       "               '2021-01-31', '2021-02-07', '2021-02-14', '2021-02-21',\n",
       "               '2021-02-28', '2021-03-07', '2021-03-14', '2021-03-21',\n",
       "               '2021-03-28', '2021-04-04', '2021-04-11', '2021-04-18',\n",
       "               '2021-04-25', '2021-05-02', '2021-05-09', '2021-05-16',\n",
       "               '2021-05-23', '2021-05-30', '2021-06-06', '2021-06-13',\n",
       "               '2021-06-20', '2021-06-27', '2021-07-04', '2021-07-11',\n",
       "               '2021-07-18', '2021-07-25', '2021-08-01', '2021-08-08',\n",
       "               '2021-08-15', '2021-08-22', '2021-08-29', '2021-09-05',\n",
       "               '2021-09-12', '2021-09-19', '2021-09-26', '2021-10-03',\n",
       "               '2021-10-10', '2021-10-17', '2021-10-24', '2021-10-31',\n",
       "               '2021-11-07', '2021-11-14', '2021-11-21', '2021-11-28'],\n",
       "              dtype='datetime64[ns]', freq='W-SUN')"
      ]
     },
     "execution_count": 48,
     "metadata": {},
     "output_type": "execute_result"
    }
   ],
   "source": [
    "date=pd.date_range(\"1/1/2020\",\n",
    "                   periods=100,\n",
    "                   freq=\"W-SUN\")\n",
    "date"
   ]
  },
  {
   "cell_type": "code",
   "execution_count": 45,
   "metadata": {},
   "outputs": [
    {
     "data": {
      "text/html": [
       "<div>\n",
       "<style scoped>\n",
       "    .dataframe tbody tr th:only-of-type {\n",
       "        vertical-align: middle;\n",
       "    }\n",
       "\n",
       "    .dataframe tbody tr th {\n",
       "        vertical-align: top;\n",
       "    }\n",
       "\n",
       "    .dataframe thead th {\n",
       "        text-align: right;\n",
       "    }\n",
       "</style>\n",
       "<table border=\"1\" class=\"dataframe\">\n",
       "  <thead>\n",
       "    <tr style=\"text-align: right;\">\n",
       "      <th></th>\n",
       "      <th>A</th>\n",
       "      <th>B</th>\n",
       "      <th>C</th>\n",
       "      <th>D</th>\n",
       "    </tr>\n",
       "  </thead>\n",
       "  <tbody>\n",
       "    <tr>\n",
       "      <th>2020-01-05</th>\n",
       "      <td>-0.079981</td>\n",
       "      <td>-0.048832</td>\n",
       "      <td>0.215078</td>\n",
       "      <td>-1.332635</td>\n",
       "    </tr>\n",
       "    <tr>\n",
       "      <th>2020-01-12</th>\n",
       "      <td>0.284091</td>\n",
       "      <td>1.073529</td>\n",
       "      <td>1.005897</td>\n",
       "      <td>0.513175</td>\n",
       "    </tr>\n",
       "    <tr>\n",
       "      <th>2020-01-19</th>\n",
       "      <td>1.090878</td>\n",
       "      <td>-0.589011</td>\n",
       "      <td>-1.291211</td>\n",
       "      <td>0.180910</td>\n",
       "    </tr>\n",
       "    <tr>\n",
       "      <th>2020-01-26</th>\n",
       "      <td>0.166256</td>\n",
       "      <td>0.151188</td>\n",
       "      <td>0.991764</td>\n",
       "      <td>0.553769</td>\n",
       "    </tr>\n",
       "    <tr>\n",
       "      <th>2020-02-02</th>\n",
       "      <td>-0.814594</td>\n",
       "      <td>-1.280202</td>\n",
       "      <td>0.246732</td>\n",
       "      <td>-0.470599</td>\n",
       "    </tr>\n",
       "  </tbody>\n",
       "</table>\n",
       "</div>"
      ],
      "text/plain": [
       "                   A         B         C         D\n",
       "2020-01-05 -0.079981 -0.048832  0.215078 -1.332635\n",
       "2020-01-12  0.284091  1.073529  1.005897  0.513175\n",
       "2020-01-19  1.090878 -0.589011 -1.291211  0.180910\n",
       "2020-01-26  0.166256  0.151188  0.991764  0.553769\n",
       "2020-02-02 -0.814594 -1.280202  0.246732 -0.470599"
      ]
     },
     "execution_count": 45,
     "metadata": {},
     "output_type": "execute_result"
    }
   ],
   "source": [
    "long_df=pd.DataFrame(np.random.randn(100,4),\n",
    "                    index=date,\n",
    "                    columns=list(\"ABCD\"))\n",
    "long_df.head()"
   ]
  },
  {
   "cell_type": "code",
   "execution_count": 55,
   "metadata": {},
   "outputs": [
    {
     "data": {
      "text/html": [
       "<div>\n",
       "<style scoped>\n",
       "    .dataframe tbody tr th:only-of-type {\n",
       "        vertical-align: middle;\n",
       "    }\n",
       "\n",
       "    .dataframe tbody tr th {\n",
       "        vertical-align: top;\n",
       "    }\n",
       "\n",
       "    .dataframe thead th {\n",
       "        text-align: right;\n",
       "    }\n",
       "</style>\n",
       "<table border=\"1\" class=\"dataframe\">\n",
       "  <thead>\n",
       "    <tr style=\"text-align: right;\">\n",
       "      <th></th>\n",
       "      <th>A</th>\n",
       "      <th>B</th>\n",
       "      <th>C</th>\n",
       "      <th>D</th>\n",
       "    </tr>\n",
       "  </thead>\n",
       "  <tbody>\n",
       "    <tr>\n",
       "      <th>2020-10-04</th>\n",
       "      <td>-0.209313</td>\n",
       "      <td>-1.043215</td>\n",
       "      <td>-0.820633</td>\n",
       "      <td>-3.071876</td>\n",
       "    </tr>\n",
       "    <tr>\n",
       "      <th>2020-10-11</th>\n",
       "      <td>1.352164</td>\n",
       "      <td>-1.162914</td>\n",
       "      <td>0.315002</td>\n",
       "      <td>-0.689707</td>\n",
       "    </tr>\n",
       "    <tr>\n",
       "      <th>2020-10-18</th>\n",
       "      <td>-0.188030</td>\n",
       "      <td>0.125051</td>\n",
       "      <td>0.946718</td>\n",
       "      <td>0.348070</td>\n",
       "    </tr>\n",
       "    <tr>\n",
       "      <th>2020-10-25</th>\n",
       "      <td>-0.245234</td>\n",
       "      <td>0.200267</td>\n",
       "      <td>0.342111</td>\n",
       "      <td>0.087766</td>\n",
       "    </tr>\n",
       "  </tbody>\n",
       "</table>\n",
       "</div>"
      ],
      "text/plain": [
       "                   A         B         C         D\n",
       "2020-10-04 -0.209313 -1.043215 -0.820633 -3.071876\n",
       "2020-10-11  1.352164 -1.162914  0.315002 -0.689707\n",
       "2020-10-18 -0.188030  0.125051  0.946718  0.348070\n",
       "2020-10-25 -0.245234  0.200267  0.342111  0.087766"
      ]
     },
     "execution_count": 55,
     "metadata": {},
     "output_type": "execute_result"
    }
   ],
   "source": [
    "#long_df[\"2020-10\"] da erro \n",
    "long_df.loc[\"2020-10\"]"
   ]
  },
  {
   "cell_type": "code",
   "execution_count": 56,
   "metadata": {},
   "outputs": [
    {
     "data": {
      "text/plain": [
       "2020-01-01    0\n",
       "2020-01-02    1\n",
       "2020-01-02    2\n",
       "2020-01-02    3\n",
       "2020-01-03    4\n",
       "dtype: int64"
      ]
     },
     "execution_count": 56,
     "metadata": {},
     "output_type": "execute_result"
    }
   ],
   "source": [
    "date=pd.DatetimeIndex(\n",
    "    [\"1/1/2020\",\"1/2/2020\",\"1/2/2020\",\n",
    "     \"1/2/2020\",\"1/3/2020\"])\n",
    "ts1=pd.Series(np.arange(5),index=date)\n",
    "ts1"
   ]
  },
  {
   "cell_type": "code",
   "execution_count": 57,
   "metadata": {},
   "outputs": [
    {
     "data": {
      "text/plain": [
       "False"
      ]
     },
     "execution_count": 57,
     "metadata": {},
     "output_type": "execute_result"
    }
   ],
   "source": [
    "ts1.index.is_unique "
   ]
  },
  {
   "cell_type": "code",
   "execution_count": 58,
   "metadata": {},
   "outputs": [],
   "source": [
    "group=ts1.groupby(level=0) "
   ]
  },
  {
   "cell_type": "code",
   "execution_count": 59,
   "metadata": {},
   "outputs": [
    {
     "data": {
      "text/plain": [
       "2020-01-01    1\n",
       "2020-01-02    3\n",
       "2020-01-03    1\n",
       "dtype: int64"
      ]
     },
     "execution_count": 59,
     "metadata": {},
     "output_type": "execute_result"
    }
   ],
   "source": [
    "group.count()"
   ]
  },
  {
   "cell_type": "code",
   "execution_count": 60,
   "metadata": {},
   "outputs": [
    {
     "data": {
      "text/plain": [
       "2020-01-01    0.0\n",
       "2020-01-02    2.0\n",
       "2020-01-03    4.0\n",
       "dtype: float64"
      ]
     },
     "execution_count": 60,
     "metadata": {},
     "output_type": "execute_result"
    }
   ],
   "source": [
    "group.mean()"
   ]
  },
  {
   "cell_type": "markdown",
   "metadata": {},
   "source": [
    "Don't forget to follow us on [YouTube](http://youtube.com/tirendazacademy) | [Medium](http://tirendazacademy.medium.com) | [Twitter](http://twitter.com/tirendazacademy) | [GitHub](http://github.com/tirendazacademy) | [Linkedin](https://www.linkedin.com/in/tirendaz-academy) | [Kaggle](https://www.kaggle.com/tirendazacademy) 😎"
   ]
  }
 ],
 "metadata": {
  "kernelspec": {
   "display_name": "Python 3 (ipykernel)",
   "language": "python",
   "name": "python3"
  },
  "language_info": {
   "codemirror_mode": {
    "name": "ipython",
    "version": 3
   },
   "file_extension": ".py",
   "mimetype": "text/x-python",
   "name": "python",
   "nbconvert_exporter": "python",
   "pygments_lexer": "ipython3",
   "version": "3.13.7"
  }
 },
 "nbformat": 4,
 "nbformat_minor": 4
}
